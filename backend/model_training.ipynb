{
 "cells": [
  {
   "cell_type": "code",
   "execution_count": 3,
   "metadata": {},
   "outputs": [
    {
     "data": {
      "text/plain": [
       "['model.joblib']"
      ]
     },
     "execution_count": 3,
     "metadata": {},
     "output_type": "execute_result"
    }
   ],
   "source": [
    "import numpy as np\n",
    "from sklearn.linear_model import LinearRegression\n",
    "import joblib\n",
    "\n",
    "# Sample data\n",
    "data = [\n",
    "    \"This is a text with 25 letters.\",\n",
    "    \"Another example with 35 letters.\",\n",
    "    \"A short one with 15 letters.\",\n",
    "    \"The quick brown fox jumps over the lazy dog.\",\n",
    "    \"Pack my box with five dozen liquor jugs.\",\n",
    "    \"Sphinx of black quartz, judge my vow.\",\n",
    "    \"Jackdaws love my big sphinx of quartz.\",\n",
    "    \"Cwm fjord bank glyphs vext quiz.\",\n",
    "    \"Waltz, nymph, for quick jigs vex Bud.\",\n",
    "    \"Amazingly few discotheques provide jukeboxes.\",\n",
    "    \"Cozy lummox gives smart squid who asks for job pen.\",\n",
    "    \"The five boxing wizards jump quickly.\",\n",
    "    \"How razorback-jumping frogs can level six piqued gymnasts!\",\n",
    "    \"Forsaking monastic tradition, twelve jovial friars gave up their vocation for a questionable existence on the flying trapeze.\",\n",
    "    \"A wizard's job is to vex chumps quickly in fog.\",\n",
    "    \"Quick zephyrs blow, vexing daft Jim.\",\n",
    "    \"1234567890\",\n",
    "    \"The quick brown fox jumps over 123 lazy dogs.\",\n",
    "    \"Hello, World!\",\n",
    "    \"Lorem Ipsum is simply dummy text of the printing and typesetting industry.\",\n",
    "    \"It is a long established fact that a reader will be distracted by the readable content of a page when looking at its layout.\",\n",
    "    \"This is a text with 25 letters.\",\n",
    "    \"Another example with 35 letters.\",\n",
    "    \"A short one with 15 letters.\",\n",
    "    \"The quick brown fox jumps over the lazy dog.\",\n",
    "    \"Pack my box with five dozen liquor jugs.\",\n",
    "    \"Sphinx of black quartz, judge my vow.\",\n",
    "    \"Jackdaws love my big sphinx of quartz.\",\n",
    "    \"Cwm fjord bank glyphs vext quiz.\",\n",
    "    \"Waltz, nymph, for quick jigs vex Bud.\",\n",
    "    \"Amazingly few discotheques provide jukeboxes.\",\n",
    "    \"Cozy lummox gives smart squid who asks for job pen.\",\n",
    "    \"The five boxing wizards jump quickly.\",\n",
    "    \"How razorback-jumping frogs can level six piqued gymnasts!\",\n",
    "    \"Forsaking monastic tradition, twelve jovial friars gave up their vocation for a questionable existence on the flying trapeze.\",\n",
    "    \"A wizard's job is to vex chumps quickly in fog.\",\n",
    "    \"Quick zephyrs blow, vexing daft Jim.\",\n",
    "    \"1234567890\",\n",
    "    \"The quick brown fox jumps over 123 lazy dogs.\",\n",
    "    \"Hello, World!\",\n",
    "    \"Lorem Ipsum is simply dummy text of the printing and typesetting industry.\",\n",
    "    \"It is a long established fact that a reader will be distracted by the readable content of a page when looking at its layout.\"\n",
    "]\n",
    "\n",
    "# Extracting the number of letters from each text\n",
    "X = np.array([[sum(c.isalpha() for c in s)] for s in data]).reshape(-1, 1)\n",
    "y = np.array([len([c for c in s if c.isalpha()]) for s in data])\n",
    "\n",
    "# Training the model\n",
    "model = LinearRegression()\n",
    "model.fit(X, y)\n",
    "\n",
    "# Saving the model\n",
    "joblib.dump(model, 'model.joblib')"
   ]
  },
  {
   "cell_type": "code",
   "execution_count": 5,
   "metadata": {},
   "outputs": [
    {
     "name": "stdout",
     "output_type": "stream",
     "text": [
      "Predicted number of letters: 11\n"
     ]
    }
   ],
   "source": [
    "import numpy as np\n",
    "from sklearn.linear_model import LinearRegression\n",
    "import joblib\n",
    "\n",
    "# Load the trained model\n",
    "model = joblib.load('model.joblib')\n",
    "\n",
    "# Sample text for prediction\n",
    "text = \"This is a test.\"\n",
    "\n",
    "# Function to count the number of letters in the text\n",
    "def count_letters(text):\n",
    "    return sum(c.isalpha() for c in text)\n",
    "\n",
    "# Predicting the number of letters\n",
    "X_new = np.array([[count_letters(text)]])\n",
    "predicted_letters = model.predict(X_new)\n",
    "\n",
    "print(f\"Predicted number of letters: {int(predicted_letters[0])}\")\n"
   ]
  }
 ],
 "metadata": {
  "kernelspec": {
   "display_name": "Python 3",
   "language": "python",
   "name": "python3"
  },
  "language_info": {
   "codemirror_mode": {
    "name": "ipython",
    "version": 3
   },
   "file_extension": ".py",
   "mimetype": "text/x-python",
   "name": "python",
   "nbconvert_exporter": "python",
   "pygments_lexer": "ipython3",
   "version": "3.12.3"
  }
 },
 "nbformat": 4,
 "nbformat_minor": 2
}
